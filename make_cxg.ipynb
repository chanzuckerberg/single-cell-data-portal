{
 "cells": [
  {
   "cell_type": "code",
   "execution_count": null,
   "metadata": {},
   "outputs": [],
   "source": [
    "from backend.layers.processing.h5ad_data_file import H5ADDataFile\n"
   ]
  },
  {
   "cell_type": "code",
   "execution_count": null,
   "metadata": {},
   "outputs": [],
   "source": [
    "def make_cxg(local_filename):\n",
    "    \"\"\"\n",
    "    Convert the uploaded H5AD file to the CXG format servicing the cellxgene Explorer.\n",
    "    \"\"\"\n",
    "\n",
    "    cxg_output_container = local_filename.replace(\".h5ad\", \".cxg\")\n",
    "    try:\n",
    "        h5ad_data_file = H5ADDataFile(local_filename, var_index_column_name=\"feature_name\")\n",
    "        h5ad_data_file.to_cxg(cxg_output_container, sparse_threshold=25.0)\n",
    "    except Exception as ex:\n",
    "        # TODO use a specialized exception\n",
    "        msg = \"CXG conversion failed.\"\n",
    "\n",
    "        raise RuntimeError(msg) from ex\n",
    "        raise ex\n",
    "\n",
    "    return cxg_output_container\n",
    "\n",
    "make_cxg(\"UXR_0bb15784-1cea-47e1-9a00-57dcd127746c.h5ad\")"
   ]
  }
 ],
 "metadata": {
  "kernelspec": {
   "display_name": "venv",
   "language": "python",
   "name": "python3"
  },
  "language_info": {
   "codemirror_mode": {
    "name": "ipython",
    "version": 3
   },
   "file_extension": ".py",
   "mimetype": "text/x-python",
   "name": "python",
   "nbconvert_exporter": "python",
   "pygments_lexer": "ipython3",
   "version": "3.9.6"
  }
 },
 "nbformat": 4,
 "nbformat_minor": 2
}
