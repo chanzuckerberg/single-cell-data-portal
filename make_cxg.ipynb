{
 "cells": [
  {
   "cell_type": "code",
   "execution_count": 1,
   "metadata": {},
   "outputs": [],
   "source": [
    "from backend.layers.processing.h5ad_data_file import H5ADDataFile\n"
   ]
  },
  {
   "cell_type": "code",
   "execution_count": 2,
   "metadata": {},
   "outputs": [
    {
     "name": "stderr",
     "output_type": "stream",
     "text": [
      "WARNING:root:Type float64 will be converted to 32 bit float and may lose precision.\n",
      "WARNING:root:Type float64 will be converted to 32 bit float and may lose precision.\n",
      "WARNING:root:Type float64 will be converted to 32 bit float and may lose precision.\n",
      "WARNING:root:Type float64 will be converted to 32 bit float and may lose precision.\n",
      "WARNING:root:Type float64 will be converted to 32 bit float and may lose precision.\n",
      "WARNING:root:Type float64 will be converted to 32 bit float and may lose precision.\n",
      "WARNING:root:Type float64 will be converted to 32 bit float and may lose precision.\n",
      "WARNING:root:Type float64 will be converted to 32 bit float and may lose precision.\n",
      "WARNING:root:Type float64 will be converted to 32 bit float and may lose precision.\n",
      "WARNING:root:Type float64 will be converted to 32 bit float and may lose precision.\n",
      "WARNING:root:Type float64 will be converted to 32 bit float and may lose precision.\n"
     ]
    },
    {
     "ename": "RuntimeError",
     "evalue": "CXG conversion failed.",
     "output_type": "error",
     "traceback": [
      "\u001b[0;31m---------------------------------------------------------------------------\u001b[0m",
      "\u001b[0;31mTypeError\u001b[0m                                 Traceback (most recent call last)",
      "Cell \u001b[0;32mIn[2], line 9\u001b[0m, in \u001b[0;36mmake_cxg\u001b[0;34m(local_filename)\u001b[0m\n\u001b[1;32m      8\u001b[0m     h5ad_data_file \u001b[38;5;241m=\u001b[39m H5ADDataFile(local_filename, var_index_column_name\u001b[38;5;241m=\u001b[39m\u001b[38;5;124m\"\u001b[39m\u001b[38;5;124mfeature_name\u001b[39m\u001b[38;5;124m\"\u001b[39m)\n\u001b[0;32m----> 9\u001b[0m     \u001b[43mh5ad_data_file\u001b[49m\u001b[38;5;241;43m.\u001b[39;49m\u001b[43mto_cxg\u001b[49m\u001b[43m(\u001b[49m\u001b[43mcxg_output_container\u001b[49m\u001b[43m,\u001b[49m\u001b[43m \u001b[49m\u001b[43msparse_threshold\u001b[49m\u001b[38;5;241;43m=\u001b[39;49m\u001b[38;5;241;43m25.0\u001b[39;49m\u001b[43m)\u001b[49m\n\u001b[1;32m     10\u001b[0m \u001b[38;5;28;01mexcept\u001b[39;00m \u001b[38;5;167;01mException\u001b[39;00m \u001b[38;5;28;01mas\u001b[39;00m ex:\n\u001b[1;32m     11\u001b[0m     \u001b[38;5;66;03m# TODO use a specialized exception\u001b[39;00m\n",
      "File \u001b[0;32m~/dev/data-portal/backend/layers/processing/h5ad_data_file.py:85\u001b[0m, in \u001b[0;36mH5ADDataFile.to_cxg\u001b[0;34m(self, output_cxg_directory, sparse_threshold, convert_anndata_colors_to_cxg_colors)\u001b[0m\n\u001b[1;32m     83\u001b[0m logging\u001b[38;5;241m.\u001b[39minfo(\u001b[38;5;124m\"\u001b[39m\u001b[38;5;130;01m\\t\u001b[39;00m\u001b[38;5;124m...dataset embeddings saved\u001b[39m\u001b[38;5;124m\"\u001b[39m)\n\u001b[0;32m---> 85\u001b[0m \u001b[43mconvert_dictionary_to_cxg_group\u001b[49m\u001b[43m(\u001b[49m\u001b[43moutput_cxg_directory\u001b[49m\u001b[43m,\u001b[49m\u001b[43m \u001b[49m\u001b[38;5;28;43mself\u001b[39;49m\u001b[38;5;241;43m.\u001b[39;49m\u001b[43manndata\u001b[49m\u001b[38;5;241;43m.\u001b[39;49m\u001b[43muns\u001b[49m\u001b[43m,\u001b[49m\u001b[43m \u001b[49m\u001b[38;5;124;43m\"\u001b[39;49m\u001b[38;5;124;43muns\u001b[39;49m\u001b[38;5;124;43m\"\u001b[39;49m\u001b[43m,\u001b[49m\u001b[43m \u001b[49m\u001b[43mctx\u001b[49m\u001b[43m)\u001b[49m\n\u001b[1;32m     86\u001b[0m logging\u001b[38;5;241m.\u001b[39minfo(\u001b[38;5;124m\"\u001b[39m\u001b[38;5;130;01m\\t\u001b[39;00m\u001b[38;5;124m...dataset uns dataframe saved\u001b[39m\u001b[38;5;124m\"\u001b[39m)\n",
      "File \u001b[0;32m~/dev/data-portal/backend/common/utils/cxg_generation_utils.py:37\u001b[0m, in \u001b[0;36mconvert_dictionary_to_cxg_group\u001b[0;34m(cxg_container, metadata_dict, group_metadata_name, ctx)\u001b[0m\n\u001b[1;32m     35\u001b[0m                 metadata_array\u001b[38;5;241m.\u001b[39mmeta[key] \u001b[38;5;241m=\u001b[39m value\n\u001b[0;32m---> 37\u001b[0m \u001b[43miterate_over_dict\u001b[49m\u001b[43m(\u001b[49m\u001b[43mmetadata_dict\u001b[49m\u001b[43m)\u001b[49m\n",
      "File \u001b[0;32m~/dev/data-portal/backend/common/utils/cxg_generation_utils.py:35\u001b[0m, in \u001b[0;36mconvert_dictionary_to_cxg_group.<locals>.iterate_over_dict\u001b[0;34m(metadata_dict)\u001b[0m\n\u001b[1;32m     34\u001b[0m \u001b[38;5;28;01melse\u001b[39;00m:\n\u001b[0;32m---> 35\u001b[0m     \u001b[43mmetadata_array\u001b[49m\u001b[38;5;241;43m.\u001b[39;49m\u001b[43mmeta\u001b[49m\u001b[43m[\u001b[49m\u001b[43mkey\u001b[49m\u001b[43m]\u001b[49m \u001b[38;5;241m=\u001b[39m value\n",
      "File \u001b[0;32mtiledb/libmetadata.pyx:315\u001b[0m, in \u001b[0;36mtiledb.libtiledb.Metadata.__setitem__\u001b[0;34m()\u001b[0m\n",
      "File \u001b[0;32mtiledb/libmetadata.pyx:169\u001b[0m, in \u001b[0;36mtiledb.libtiledb.put_metadata\u001b[0;34m()\u001b[0m\n",
      "File \u001b[0;32m~/dev/data-portal/venv/lib/python3.9/site-packages/tiledb/datatypes.py:57\u001b[0m, in \u001b[0;36mDataType.from_numpy\u001b[0;34m(cls, dtype)\u001b[0m\n\u001b[1;32m     56\u001b[0m \u001b[38;5;28;01mif\u001b[39;00m tiledb_type \u001b[38;5;129;01mis\u001b[39;00m \u001b[38;5;28;01mNone\u001b[39;00m:\n\u001b[0;32m---> 57\u001b[0m     \u001b[38;5;28;01mraise\u001b[39;00m \u001b[38;5;167;01mTypeError\u001b[39;00m(\u001b[38;5;124mf\u001b[39m\u001b[38;5;124m\"\u001b[39m\u001b[38;5;132;01m{\u001b[39;00mdtype\u001b[38;5;132;01m!r}\u001b[39;00m\u001b[38;5;124m cannot be mapped to a DataType\u001b[39m\u001b[38;5;124m\"\u001b[39m)\n\u001b[1;32m     59\u001b[0m \u001b[38;5;28;01mreturn\u001b[39;00m \u001b[38;5;28mcls\u001b[39m(dtype, tiledb_type, ncells)\n",
      "\u001b[0;31mTypeError\u001b[0m: dtype('O') cannot be mapped to a DataType",
      "\nThe above exception was the direct cause of the following exception:\n",
      "\u001b[0;31mRuntimeError\u001b[0m                              Traceback (most recent call last)",
      "Cell \u001b[0;32mIn[2], line 18\u001b[0m\n\u001b[1;32m     14\u001b[0m         \u001b[38;5;28;01mraise\u001b[39;00m \u001b[38;5;167;01mRuntimeError\u001b[39;00m(msg) \u001b[38;5;28;01mfrom\u001b[39;00m \u001b[38;5;21;01mex\u001b[39;00m\n\u001b[1;32m     16\u001b[0m     \u001b[38;5;28;01mreturn\u001b[39;00m cxg_output_container\n\u001b[0;32m---> 18\u001b[0m \u001b[43mmake_cxg\u001b[49m\u001b[43m(\u001b[49m\u001b[38;5;124;43m\"\u001b[39;49m\u001b[38;5;124;43mspatial_1.h5ad\u001b[39;49m\u001b[38;5;124;43m\"\u001b[39;49m\u001b[43m)\u001b[49m\n",
      "Cell \u001b[0;32mIn[2], line 14\u001b[0m, in \u001b[0;36mmake_cxg\u001b[0;34m(local_filename)\u001b[0m\n\u001b[1;32m     10\u001b[0m \u001b[38;5;28;01mexcept\u001b[39;00m \u001b[38;5;167;01mException\u001b[39;00m \u001b[38;5;28;01mas\u001b[39;00m ex:\n\u001b[1;32m     11\u001b[0m     \u001b[38;5;66;03m# TODO use a specialized exception\u001b[39;00m\n\u001b[1;32m     12\u001b[0m     msg \u001b[38;5;241m=\u001b[39m \u001b[38;5;124m\"\u001b[39m\u001b[38;5;124mCXG conversion failed.\u001b[39m\u001b[38;5;124m\"\u001b[39m\n\u001b[0;32m---> 14\u001b[0m     \u001b[38;5;28;01mraise\u001b[39;00m \u001b[38;5;167;01mRuntimeError\u001b[39;00m(msg) \u001b[38;5;28;01mfrom\u001b[39;00m \u001b[38;5;21;01mex\u001b[39;00m\n\u001b[1;32m     16\u001b[0m \u001b[38;5;28;01mreturn\u001b[39;00m cxg_output_container\n",
      "\u001b[0;31mRuntimeError\u001b[0m: CXG conversion failed."
     ]
    }
   ],
   "source": [
    "def make_cxg(local_filename):\n",
    "    \"\"\"\n",
    "    Convert the uploaded H5AD file to the CXG format servicing the cellxgene Explorer.\n",
    "    \"\"\"\n",
    "\n",
    "    cxg_output_container = local_filename.replace(\".h5ad\", \".cxg\")\n",
    "    try:\n",
    "        h5ad_data_file = H5ADDataFile(local_filename, var_index_column_name=\"feature_name\")\n",
    "        h5ad_data_file.to_cxg(cxg_output_container, sparse_threshold=25.0)\n",
    "    except Exception as ex:\n",
    "        # TODO use a specialized exception\n",
    "        msg = \"CXG conversion failed.\"\n",
    "\n",
    "        raise RuntimeError(msg) from ex\n",
    "\n",
    "    return cxg_output_container\n",
    "\n",
    "make_cxg(\"ZZ_ba344978-e1aa-40db-a611-b952c10df148.h5ad\")"
   ]
  },
  {
   "cell_type": "code",
   "execution_count": null,
   "metadata": {},
   "outputs": [],
   "source": []
  }
 ],
 "metadata": {
  "kernelspec": {
   "display_name": "venv",
   "language": "python",
   "name": "python3"
  },
  "language_info": {
   "codemirror_mode": {
    "name": "ipython",
    "version": 3
   },
   "file_extension": ".py",
   "mimetype": "text/x-python",
   "name": "python",
   "nbconvert_exporter": "python",
   "pygments_lexer": "ipython3",
   "version": "3.9.18"
  }
 },
 "nbformat": 4,
 "nbformat_minor": 2
}
