{
 "cells": [
  {
   "cell_type": "markdown",
   "id": "ae1d103a",
   "metadata": {},
   "source": [
    "## Imports\n",
    "This notebook should be in the root directory of `single-cell-data-portal`."
   ]
  },
  {
   "cell_type": "code",
   "execution_count": null,
   "id": "177b7e51",
   "metadata": {},
   "outputs": [],
   "source": [
    "from backend.wmg.api.v2 import *\n",
    "import tiledb\n",
    "import numpy as np\n",
    "import json\n",
    "import pandas as pd"
   ]
  },
  {
   "cell_type": "markdown",
   "id": "61d105cc",
   "metadata": {},
   "source": [
    "## Load local snapshot "
   ]
  },
  {
   "cell_type": "code",
   "execution_count": null,
   "id": "b7d32eff",
   "metadata": {},
   "outputs": [],
   "source": [
    "sn = \"local-snapshot-name\"\n",
    "snapshot = WmgSnapshot(snapshot_identifier=\"\",\n",
    "    expression_summary_cube=tiledb.open(f'{sn}/expression_summary'),\n",
    "    marker_genes_cube=tiledb.open(f'{sn}/marker_genes'),\n",
    "    expression_summary_default_cube=tiledb.open(f'{sn}/expression_summary_default'),\n",
    "    expression_summary_fmg_cube=tiledb.open(f'{sn}/expression_summary_fmg'),                       \n",
    "    cell_counts_cube=tiledb.open(f'{sn}/cell_counts'),\n",
    "    cell_type_orderings=pd.read_json(f'{sn}/cell_type_orderings.json'),\n",
    "    primary_filter_dimensions=json.load(open(f'{sn}/primary_filter_dimensions.json','r')),\n",
    "    dataset_to_gene_ids=json.load(open(f'{sn}/dataset_to_gene_ids.json','r')), \n",
    "    filter_relationships=json.load(open(f'{sn}/filter_relationships.json','r')))"
   ]
  },
  {
   "cell_type": "markdown",
   "id": "e96e8185",
   "metadata": {},
   "source": [
    "## Define your request (can be retrieved from chrome Network devtools)"
   ]
  },
  {
   "cell_type": "code",
   "execution_count": 3,
   "id": "9beb564a",
   "metadata": {},
   "outputs": [],
   "source": [
    "request = {'filter': {'dataset_ids': [],\n",
    "  'development_stage_ontology_term_ids': [],\n",
    "  'disease_ontology_term_ids': [],\n",
    "  'gene_ontology_term_ids': ['ENSG00000251562'],\n",
    "  'organism_ontology_term_id': 'NCBITaxon:9606',\n",
    "  'self_reported_ethnicity_ontology_term_ids': [],\n",
    "  'sex_ontology_term_ids': [],\n",
    "  'publication_citations': []},\n",
    " 'is_rollup': True}"
   ]
  },
  {
   "cell_type": "markdown",
   "id": "f14c965d",
   "metadata": {},
   "source": [
    "## Copy contents of `backend.wmg.api.v2.query` into the below cell"
   ]
  },
  {
   "cell_type": "code",
   "execution_count": null,
   "id": "2b9a2c49",
   "metadata": {},
   "outputs": [],
   "source": [
    "# request = connexion.request.json <-- hardcoded above\n",
    "is_rollup = request.get(\"is_rollup\", True)\n",
    "compare = request.get(\"compare\", None)\n",
    "\n",
    "if compare:\n",
    "    compare = find_dimension_id_from_compare(compare)\n",
    "\n",
    "criteria = WmgQueryCriteriaV2(**request[\"filter\"])\n",
    "\n",
    "# with ServerTiming.time(\"query and build response\"):\n",
    "# snapshot: WmgSnapshot = load_snapshot(\n",
    "#     snapshot_schema_version=WMG_API_SNAPSHOT_SCHEMA_VERSION,\n",
    "#     explicit_snapshot_id_to_load=WMG_API_FORCE_LOAD_SNAPSHOT_ID,\n",
    "# )\n",
    "\n",
    "cube_query_params = WmgCubeQueryParams(\n",
    "    cube_query_valid_attrs=READER_WMG_CUBE_QUERY_VALID_ATTRIBUTES,\n",
    "    cube_query_valid_dims=READER_WMG_CUBE_QUERY_VALID_DIMENSIONS)\n",
    "\n",
    "q = WmgQuery(snapshot, cube_query_params)\n",
    "default = snapshot.expression_summary_default_cube is not None and compare is None\n",
    "for dim in criteria.dict():\n",
    "    if len(criteria.dict()[dim]) > 0 and depluralize(dim) in expression_summary_non_indexed_dims:\n",
    "        default = False\n",
    "        break\n",
    "\n",
    "expression_summary = (\n",
    "    q.expression_summary_default(criteria)\n",
    "    if default\n",
    "    else q.expression_summary(criteria, compare_dimension=compare)\n",
    ")\n",
    "\n",
    "cell_counts = q.cell_counts(criteria, compare_dimension=compare)\n",
    "if expression_summary.shape[0] > 0 or cell_counts.shape[0] > 0:\n",
    "    group_by_terms = [\"tissue_ontology_term_id\", \"cell_type_ontology_term_id\", compare] if compare else None\n",
    "\n",
    "    gene_expression_df, cell_counts_grouped_df = get_dot_plot_data(\n",
    "        expression_summary, cell_counts, group_by_terms\n",
    "    )\n",
    "    if is_rollup:\n",
    "        rolled_gene_expression_df, rolled_cell_counts_grouped_df = rollup(\n",
    "            gene_expression_df, cell_counts_grouped_df\n",
    "        )\n",
    "\n",
    "    response = (   #jsonify(\n",
    "        dict(\n",
    "            snapshot_id=snapshot.snapshot_identifier,\n",
    "            expression_summary=build_expression_summary(gene_expression_df, rolled_gene_expression_df, compare),\n",
    "            term_id_labels=dict(\n",
    "                genes=build_gene_id_label_mapping(criteria.gene_ontology_term_ids),\n",
    "                cell_types=build_ordered_cell_types_by_tissue(\n",
    "                    rolled_cell_counts_grouped_df, snapshot.cell_type_orderings, compare\n",
    "                ),\n",
    "            ),\n",
    "        )\n",
    "    )\n",
    "else:  # no data, return empty json\n",
    "    response = (   #jsonify(\n",
    "        dict(snapshot_id=snapshot.snapshot_identifier, expression_summary={}, term_id_labels={})\n",
    "    )\n",
    "# return response"
   ]
  },
  {
   "cell_type": "markdown",
   "id": "b4c2d196",
   "metadata": {},
   "source": [
    "## Explore results and iterate\n",
    "Explore `response` to assess whether the endpoint succeeded or not. If any dependent functions in `backend.wmg.api.v2` require modification, copy them into this Jupyter notebook with the updates and run the above cell again."
   ]
  }
 ],
 "metadata": {
  "kernelspec": {
   "display_name": "Python 3 (ipykernel)",
   "language": "python",
   "name": "python3"
  },
  "language_info": {
   "codemirror_mode": {
    "name": "ipython",
    "version": 3
   },
   "file_extension": ".py",
   "mimetype": "text/x-python",
   "name": "python",
   "nbconvert_exporter": "python",
   "pygments_lexer": "ipython3",
   "version": "3.10.11"
  }
 },
 "nbformat": 4,
 "nbformat_minor": 5
}
