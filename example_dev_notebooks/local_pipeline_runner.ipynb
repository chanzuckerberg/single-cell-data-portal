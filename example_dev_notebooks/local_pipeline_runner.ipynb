{
 "cells": [
  {
   "cell_type": "markdown",
   "id": "58e11ed0",
   "metadata": {},
   "source": [
    "## Imports\n",
    "\n",
    "This file should be located in the root directory of `single-cell-data-portal`."
   ]
  },
  {
   "cell_type": "code",
   "execution_count": 3,
   "id": "b429461c",
   "metadata": {},
   "outputs": [
    {
     "name": "stderr",
     "output_type": "stream",
     "text": [
      "* Owlready2 * Warning: optimized Cython parser module 'owlready2_optimized' is not available, defaulting to slower Python implementation\n"
     ]
    }
   ],
   "source": [
    "from backend.wmg.pipeline.cube_pipeline import load_data_and_create_cube\n",
    "from backend.wmg.pipeline.integrated_corpus.extract import get_dataset_asset_urls\n",
    "from backend.wmg.data.utils import get_datasets_from_curation_api\n",
    "import os"
   ]
  },
  {
   "cell_type": "markdown",
   "id": "025c22e1",
   "metadata": {},
   "source": [
    "## Set environment variables\n",
    "These variables are used for retrieving dataset assets."
   ]
  },
  {
   "cell_type": "code",
   "execution_count": 4,
   "id": "a9c8d3fd",
   "metadata": {},
   "outputs": [
    {
     "name": "stdout",
     "output_type": "stream",
     "text": [
      "env: DEPLOYMENT_STAGE=staging\n",
      "env: API_URL=https://api.cellxgene.staging.single-cell.czi.technology\n"
     ]
    }
   ],
   "source": [
    "%env DEPLOYMENT_STAGE=staging\n",
    "%env API_URL=https://api.cellxgene.staging.single-cell.czi.technology"
   ]
  },
  {
   "cell_type": "markdown",
   "id": "b72f05c6",
   "metadata": {},
   "source": [
    "## Set parameters"
   ]
  },
  {
   "cell_type": "code",
   "execution_count": 6,
   "id": "082c5cc8",
   "metadata": {},
   "outputs": [],
   "source": [
    "NUM_DATASETS = 3 # download the first 3 datasets\n",
    "DATASET_FOLDER_NAME = \"pipeline_test_datasets\" # folder to download the data into\n",
    "MAX_GB_FILESIZE = 0.1 # only download datasets with < 0.1GB filesize"
   ]
  },
  {
   "cell_type": "markdown",
   "id": "1a783377",
   "metadata": {},
   "source": [
    "## Create datasets directory"
   ]
  },
  {
   "cell_type": "code",
   "execution_count": 11,
   "id": "96ed8f67",
   "metadata": {},
   "outputs": [],
   "source": [
    "os.system(f\"mkdir -p {DATASET_FOLDER_NAME}\");"
   ]
  },
  {
   "cell_type": "markdown",
   "id": "7e582b20",
   "metadata": {},
   "source": [
    "## Get dataset asset URLs and metadata\n",
    "The metadata will be used to filter out datasets that are too large to be processed locally on a laptop."
   ]
  },
  {
   "cell_type": "code",
   "execution_count": 10,
   "id": "c5bf30c0",
   "metadata": {},
   "outputs": [],
   "source": [
    "dataset_urls = get_dataset_asset_urls()\n",
    "datasets = get_datasets_from_curation_api()\n",
    "datasets_by_ids = dict(zip([d['dataset_id'] for d in datasets],datasets))\n",
    "print(len(dataset_urls),'datasets')"
   ]
  },
  {
   "cell_type": "markdown",
   "id": "c556c61d",
   "metadata": {},
   "source": [
    "## Download the first `NUM_DATASETS` datasets"
   ]
  },
  {
   "cell_type": "code",
   "execution_count": 12,
   "id": "ade58ece",
   "metadata": {},
   "outputs": [
    {
     "name": "stdout",
     "output_type": "stream",
     "text": [
      "6f7fd0f1-a2ed-4ff1-80d3-33dde731cbc3\n",
      "Dataset bigger than 0.1GB, skipping\n",
      "ebaaa22f-fbaa-4a9c-aa62-b938a4e2d319\n",
      "Dataset bigger than 0.1GB, skipping\n",
      "ab326369-b63c-48d8-8a7f-82ffa0df7002\n",
      "Dataset bigger than 0.1GB, skipping\n",
      "74cff64f-9da9-4b2a-9b3b-8a04a1598040\n",
      "Dataset bigger than 0.1GB, skipping\n",
      "5af90777-6760-4003-9dba-8f945fec6fdf\n",
      "Dataset bigger than 0.1GB, skipping\n",
      "bd65a70f-b274-4133-b9dd-0d1431b6af34\n",
      "Dataset bigger than 0.1GB, skipping\n",
      "96d4a4cd-db8e-4320-af10-a7d9418bc647\n",
      "Dataset bigger than 0.1GB, skipping\n",
      "137ca42b-33b3-48fa-ae80-02a0747027cb\n",
      "Dataset bigger than 0.1GB, skipping\n",
      "c05e6940-729c-47bd-a2a6-6ce3730c4919\n",
      "Dataset bigger than 0.1GB, skipping\n",
      "965386e9-1e4f-466d-bf59-ebdca4b66b9b\n",
      "Dataset bigger than 0.1GB, skipping\n",
      "7f08cbcc-5790-4576-8478-10e9a999b316\n",
      "Dataset bigger than 0.1GB, skipping\n",
      "d7291f04-fbbb-4d65-990a-f01fa44e915b\n",
      "Dataset bigger than 0.1GB, skipping\n",
      "9d8e5dca-03a3-457d-b7fb-844c75735c83\n",
      "Dataset bigger than 0.1GB, skipping\n",
      "842c6f5d-4a94-4eef-8510-8c792d1124bc\n",
      "Dataset bigger than 0.1GB, skipping\n",
      "e84f2780-51e8-4cfa-8aa0-13bbfef677c7\n",
      "Dataset bigger than 0.1GB, skipping\n",
      "de94c504-4b58-4f42-b68d-74a8e4892f0e\n",
      "Dataset bigger than 0.1GB, skipping\n",
      "b0e547f0-462b-4f81-b31b-5b0a5d96f537\n",
      "Dataset bigger than 0.1GB, skipping\n",
      "d41f45c1-1b7b-4573-a998-ac5c5acb1647\n",
      "Dataset bigger than 0.1GB, skipping\n",
      "f801b7a9-80a6-4d09-9161-71474deb58ae\n"
     ]
    },
    {
     "name": "stderr",
     "output_type": "stream",
     "text": [
      "  % Total    % Received % Xferd  Average Speed   Time    Time     Time  Current\n",
      "                                 Dload  Upload   Total   Spent    Left  Speed\n",
      "100 56.3M  100 56.3M    0     0   836k      0  0:01:09  0:01:09 --:--:--  831k\n",
      "  % Total    % Received % Xferd  Average Speed   Time    Time     Time  Current\n",
      "                                 Dload  Upload   Total   Spent    Left  Speed\n",
      "  0     0    0     0    0     0      0      0 --:--:-- --:--:-- --:--:--     0"
     ]
    },
    {
     "name": "stdout",
     "output_type": "stream",
     "text": [
      "be39785b-67cb-4177-be19-a40ee3747e45\n",
      "Dataset bigger than 0.1GB, skipping\n",
      "4c6f9f26-5470-455b-8933-c408232fbf56\n"
     ]
    },
    {
     "name": "stderr",
     "output_type": "stream",
     "text": [
      "100 39.3M  100 39.3M    0     0   834k      0  0:00:48  0:00:48 --:--:--  803k\n",
      "  % Total    % Received % Xferd  Average Speed   Time    Time     Time  Current\n",
      "                                 Dload  Upload   Total   Spent    Left  Speed\n",
      "  0     0    0     0    0     0      0      0 --:--:-- --:--:-- --:--:--     0"
     ]
    },
    {
     "name": "stdout",
     "output_type": "stream",
     "text": [
      "0ba636a1-4754-4786-a8be-7ab3cf760fd6\n",
      "Dataset bigger than 0.1GB, skipping\n",
      "3f32121d-126b-4e8d-9f69-d86502d2a1b1\n",
      "Dataset bigger than 0.1GB, skipping\n",
      "a13bda79-9134-46c9-9ed1-a2858be9aafe\n",
      "Dataset bigger than 0.1GB, skipping\n",
      "535e9336-2d8d-43c3-944d-bcbebe20df8a\n",
      "Dataset bigger than 0.1GB, skipping\n",
      "18e2a8c5-33f7-455e-a58a-b2ba6921db27\n",
      "Dataset bigger than 0.1GB, skipping\n",
      "12967895-3d58-4e93-be2c-4e1bcf4388d5\n",
      "Dataset bigger than 0.1GB, skipping\n",
      "ee195b7d-184d-4dfa-9b1c-51a7e601ac11\n"
     ]
    },
    {
     "name": "stderr",
     "output_type": "stream",
     "text": [
      "100 33.7M  100 33.7M    0     0   825k      0  0:00:41  0:00:41 --:--:--  860k\n"
     ]
    }
   ],
   "source": [
    "num_datasets_downloaded = 0\n",
    "for dataset_id,dataset_url in dataset_urls.items():\n",
    "    \n",
    "    print(dataset_id)\n",
    "\n",
    "    dataset = datasets_by_ids[dataset_id]\n",
    "    \n",
    "    too_big=False\n",
    "    for asset in dataset['assets']:\n",
    "        if asset['filetype']=='H5AD' and asset['filesize']/1e9 > MAX_GB_FILESIZE:\n",
    "            too_big=True\n",
    "            break\n",
    "\n",
    "    if too_big:\n",
    "        print(f\"Dataset bigger than {MAX_GB_FILESIZE}GB, skipping\")\n",
    "        continue\n",
    "\n",
    "    os.system(f\"mkdir -p {DATASET_FOLDER_NAME}/{dataset_id}\")\n",
    "    os.system(f\"curl -o {DATASET_FOLDER_NAME}/{dataset_id}/local.h5ad {dataset_url}\")\n",
    "    num_datasets_downloaded+=1\n",
    "    \n",
    "    if num_datasets_downloaded == NUM_DATASETS:\n",
    "        break"
   ]
  },
  {
   "cell_type": "markdown",
   "id": "0dc9ed78",
   "metadata": {},
   "source": [
    "## Run the pipeline on the downloaded datasets\n",
    "If running on mac, you might not be able to install pygraphviz with `pip`. If you're using conda, you can install it with `conda install -c conda-forge pygraphviz`.\n",
    "\n",
    "At the end, the pipeline will attempt to upload the cube to the WMG s3 bucket. This will fail and is expected. Load the snapshot locally to explore its contents and assess whether the pipeline was successful. To learn how to load the snapshot locally, take a look at `example_dev_notebooks/local_endpoint_runner.ipynb`."
   ]
  },
  {
   "cell_type": "code",
   "execution_count": 7,
   "id": "909f5b74",
   "metadata": {},
   "outputs": [
    {
     "name": "stderr",
     "output_type": "stream",
     "text": [
      "INFO:backend.wmg.pipeline.integrated_corpus.job:Processing dataset 1 of 3\n",
      "INFO:backend.wmg.pipeline.integrated_corpus.job:h5ad_file_path='pipeline_test_datasets/f801b7a9-80a6-4d09-9161-71474deb58ae/local.h5ad'\n",
      "INFO:backend.wmg.pipeline.integrated_corpus.extract:Extracting pipeline_test_datasets/f801b7a9-80a6-4d09-9161-71474deb58ae/local.h5ad...\n",
      "INFO:backend.wmg.pipeline.integrated_corpus.transform:Applying filters: assay, and lowly-covered cells\n",
      "INFO:backend.wmg.pipeline.integrated_corpus.transform:Obtaining high-level tissues\n",
      "INFO:backend.wmg.pipeline.integrated_corpus.job:loaded: shape=(5766, 32922)\n",
      "INFO:backend.wmg.pipeline.integrated_corpus.load:Adding 32922 gene records...\n",
      "INFO:backend.wmg.pipeline.integrated_corpus.load:Global var index length: (32922, 4)\n",
      "INFO:backend.wmg.pipeline.integrated_corpus.load:Function load_dataset executed in 2.7785s\n",
      "INFO:backend.wmg.pipeline.integrated_corpus.job:Processing dataset 2 of 3\n",
      "INFO:backend.wmg.pipeline.integrated_corpus.job:h5ad_file_path='pipeline_test_datasets/4c6f9f26-5470-455b-8933-c408232fbf56/local.h5ad'\n",
      "INFO:backend.wmg.pipeline.integrated_corpus.extract:Extracting pipeline_test_datasets/4c6f9f26-5470-455b-8933-c408232fbf56/local.h5ad...\n",
      "INFO:backend.wmg.pipeline.integrated_corpus.transform:Applying filters: assay, and lowly-covered cells\n",
      "INFO:backend.wmg.pipeline.integrated_corpus.transform:Obtaining high-level tissues\n",
      "INFO:backend.wmg.pipeline.integrated_corpus.job:loaded: shape=(2576, 32922)\n",
      "INFO:backend.wmg.pipeline.integrated_corpus.load:Global var index length: (32922, 4)\n",
      "INFO:backend.wmg.pipeline.integrated_corpus.load:Function load_dataset executed in 1.4528s\n",
      "INFO:backend.wmg.pipeline.integrated_corpus.job:Processing dataset 3 of 3\n",
      "INFO:backend.wmg.pipeline.integrated_corpus.job:h5ad_file_path='pipeline_test_datasets/ee195b7d-184d-4dfa-9b1c-51a7e601ac11/local.h5ad'\n",
      "INFO:backend.wmg.pipeline.integrated_corpus.extract:Extracting pipeline_test_datasets/ee195b7d-184d-4dfa-9b1c-51a7e601ac11/local.h5ad...\n",
      "INFO:backend.wmg.pipeline.integrated_corpus.transform:Applying filters: assay, and lowly-covered cells\n",
      "INFO:backend.wmg.pipeline.integrated_corpus.transform:Obtaining high-level tissues\n",
      "INFO:backend.wmg.pipeline.integrated_corpus.job:loaded: shape=(5200, 30933)\n",
      "INFO:backend.wmg.pipeline.integrated_corpus.load:Adding 235 gene records...\n",
      "INFO:backend.wmg.pipeline.integrated_corpus.load:Global var index length: (33157, 4)\n",
      "INFO:backend.wmg.pipeline.integrated_corpus.load:Function load_dataset executed in 2.6151s\n",
      "INFO:backend.wmg.pipeline.integrated_corpus.job:all loaded, now consolidating.\n",
      "INFO:backend.wmg.pipeline.integrated_corpus.job:dataset_count=3, gene_count=33157, cell_count=13542\n",
      "INFO:backend.wmg.pipeline.integrated_corpus.job:Function build_integrated_corpus executed in 152.1713s\n",
      "/Users/atarashansky/czi/single-cell-data-portal/backend/wmg/data/utils.py:52: UserWarning: Overwrite set, but array does not exist\n",
      "  tiledb.Array.create(uri, schema, overwrite=True)\n",
      "INFO:backend.wmg.pipeline.summary_cubes.expression_summary.transform:reduce integrated expression data, i=0\n",
      "INFO:backend.wmg.pipeline.summary_cubes.expression_summary.transform:Function reduce_X executed in 0.1374s\n",
      "INFO:backend.wmg.pipeline.summary_cubes.expression_summary.load:Building in-mem cube\n",
      "INFO:backend.wmg.pipeline.summary_cubes.expression_summary.job:create_expression_summary_cube: gene_count=33157\n",
      "INFO:backend.wmg.pipeline.summary_cubes.expression_summary.job:Function create_expression_summary_cube executed in 47.6814s\n",
      "/Users/atarashansky/czi/single-cell-data-portal/backend/wmg/data/utils.py:52: UserWarning: Overwrite set, but array does not exist\n",
      "  tiledb.Array.create(uri, schema, overwrite=True)\n",
      "INFO:backend.wmg.pipeline.summary_cubes.expression_summary.transform:reduce integrated expression data, i=0\n",
      "INFO:backend.wmg.pipeline.summary_cubes.expression_summary.transform:Function reduce_X executed in 0.0792s\n",
      "INFO:backend.wmg.pipeline.summary_cubes.expression_summary.load:Building in-mem cube\n",
      "INFO:backend.wmg.pipeline.summary_cubes.expression_summary.job:create_expression_summary_cube: gene_count=33157\n",
      "INFO:backend.wmg.pipeline.summary_cubes.expression_summary.job:Function create_expression_summary_cube executed in 0.7514s\n",
      "/Users/atarashansky/czi/single-cell-data-portal/backend/wmg/data/utils.py:52: UserWarning: Overwrite set, but array does not exist\n",
      "  tiledb.Array.create(uri, schema, overwrite=True)\n",
      "INFO:backend.wmg.pipeline.summary_cubes.expression_summary_fmg.transform:reduce integrated expression data, i=0\n",
      "INFO:backend.wmg.pipeline.summary_cubes.expression_summary_fmg.transform:Function reduce_X executed in 0.2158s\n",
      "INFO:backend.wmg.pipeline.summary_cubes.expression_summary_fmg.load:Building in-mem cube\n",
      "INFO:backend.wmg.pipeline.summary_cubes.expression_summary_fmg.job:create_expression_summary_fmg_cube: gene_count=33157\n",
      "INFO:backend.wmg.pipeline.summary_cubes.expression_summary_fmg.job:Function create_expression_summary_fmg_cube executed in 2.4522s\n",
      "/Users/atarashansky/czi/single-cell-data-portal/backend/wmg/data/utils.py:52: UserWarning: Overwrite set, but array does not exist\n",
      "  tiledb.Array.create(uri, schema, overwrite=True)\n",
      "INFO:backend.wmg.pipeline.summary_cubes.cell_count:cell_count=13542\n",
      "INFO:backend.wmg.pipeline.summary_cubes.cell_count:Cell count cube created and stored at /Users/atarashansky/czi/single-cell-data-portal/1690995594/cell_counts\n",
      "INFO:backend.wmg.pipeline.summary_cubes.cell_count:Function create_cell_count_cube executed in 42.0035s\n",
      "/Users/atarashansky/czi/single-cell-data-portal/backend/wmg/data/utils.py:52: UserWarning: Overwrite set, but array does not exist\n",
      "  tiledb.Array.create(uri, schema, overwrite=True)\n",
      "INFO:backend.wmg.pipeline.summary_cubes.marker_genes:Calculating markers for tissue: UBERON:0002108, cell type: CL:0000034, organism: NCBITaxon:9606\n",
      "INFO:backend.wmg.pipeline.summary_cubes.marker_genes:Calculating markers for tissue: UBERON:0002108, cell type: CL:0000164, organism: NCBITaxon:9606\n",
      "INFO:backend.wmg.pipeline.summary_cubes.marker_genes:Calculating markers for tissue: UBERON:0002108, cell type: CL:0000236, organism: NCBITaxon:9606\n",
      "INFO:backend.wmg.pipeline.summary_cubes.marker_genes:Calculating markers for tissue: UBERON:0002108, cell type: CL:0000584, organism: NCBITaxon:9606\n",
      "INFO:backend.wmg.pipeline.summary_cubes.marker_genes:Calculating markers for tissue: UBERON:0002108, cell type: CL:0000682, organism: NCBITaxon:9606\n",
      "INFO:backend.wmg.pipeline.summary_cubes.marker_genes:Calculating markers for tissue: UBERON:0002108, cell type: CL:0000766, organism: NCBITaxon:9606\n",
      "INFO:backend.wmg.pipeline.summary_cubes.marker_genes:Calculating markers for tissue: UBERON:0002108, cell type: CL:0000814, organism: NCBITaxon:9606\n",
      "INFO:backend.wmg.pipeline.summary_cubes.marker_genes:Calculating markers for tissue: UBERON:0002108, cell type: CL:0008019, organism: NCBITaxon:9606\n",
      "INFO:backend.wmg.pipeline.summary_cubes.marker_genes:Calculating markers for tissue: UBERON:0002108, cell type: CL:0011115, organism: NCBITaxon:9606\n",
      "INFO:backend.wmg.pipeline.summary_cubes.marker_genes:Calculating markers for tissue: UBERON:0002108, cell type: CL:0019031, organism: NCBITaxon:9606\n",
      "INFO:backend.wmg.pipeline.summary_cubes.marker_genes:Calculating markers for tissue: UBERON:0002113, cell type: CL:0000003, organism: NCBITaxon:9606\n",
      "INFO:backend.wmg.pipeline.summary_cubes.marker_genes:Calculating markers for tissue: UBERON:0002113, cell type: CL:0000075, organism: NCBITaxon:9606\n",
      "INFO:backend.wmg.pipeline.summary_cubes.marker_genes:Calculating markers for tissue: UBERON:0002113, cell type: CL:0000084, organism: NCBITaxon:9606\n",
      "INFO:backend.wmg.pipeline.summary_cubes.marker_genes:Calculating markers for tissue: UBERON:0002113, cell type: CL:0000115, organism: NCBITaxon:9606\n",
      "INFO:backend.wmg.pipeline.summary_cubes.marker_genes:Calculating markers for tissue: UBERON:0002113, cell type: CL:0000235, organism: NCBITaxon:9606\n",
      "INFO:backend.wmg.pipeline.summary_cubes.marker_genes:Calculating markers for tissue: UBERON:0002113, cell type: CL:0000236, organism: NCBITaxon:9606\n",
      "INFO:backend.wmg.pipeline.summary_cubes.marker_genes:Calculating markers for tissue: UBERON:0002113, cell type: CL:0000359, organism: NCBITaxon:9606\n"
     ]
    },
    {
     "name": "stderr",
     "output_type": "stream",
     "text": [
      "INFO:backend.wmg.pipeline.summary_cubes.marker_genes:Calculating markers for tissue: UBERON:0002113, cell type: CL:0000576, organism: NCBITaxon:9606\n",
      "INFO:backend.wmg.pipeline.summary_cubes.marker_genes:Calculating markers for tissue: UBERON:0002113, cell type: CL:0000623, organism: NCBITaxon:9606\n",
      "INFO:backend.wmg.pipeline.summary_cubes.marker_genes:Calculating markers for tissue: UBERON:0002113, cell type: CL:0000650, organism: NCBITaxon:9606\n",
      "INFO:backend.wmg.pipeline.summary_cubes.marker_genes:Calculating markers for tissue: UBERON:0002113, cell type: CL:0000653, organism: NCBITaxon:9606\n",
      "INFO:backend.wmg.pipeline.summary_cubes.marker_genes:Calculating markers for tissue: UBERON:0002113, cell type: CL:0000669, organism: NCBITaxon:9606\n",
      "INFO:backend.wmg.pipeline.summary_cubes.marker_genes:Calculating markers for tissue: UBERON:0002113, cell type: CL:0001061, organism: NCBITaxon:9606\n",
      "INFO:backend.wmg.pipeline.summary_cubes.marker_genes:Calculating markers for tissue: UBERON:0002113, cell type: CL:0002201, organism: NCBITaxon:9606\n",
      "INFO:backend.wmg.pipeline.summary_cubes.marker_genes:Calculating markers for tissue: UBERON:0002113, cell type: CL:0002306, organism: NCBITaxon:9606\n",
      "INFO:backend.wmg.pipeline.summary_cubes.marker_genes:Calculating markers for tissue: UBERON:0002113, cell type: CL:0005009, organism: NCBITaxon:9606\n",
      "INFO:backend.wmg.pipeline.summary_cubes.marker_genes:Calculating markers for tissue: UBERON:0002113, cell type: CL:0005011, organism: NCBITaxon:9606\n",
      "INFO:backend.wmg.pipeline.summary_cubes.marker_genes:Calculating markers for tissue: UBERON:0002113, cell type: CL:1000849, organism: NCBITaxon:9606\n",
      "INFO:backend.wmg.pipeline.summary_cubes.marker_genes:Calculating markers for tissue: UBERON:0002113, cell type: CL:1001005, organism: NCBITaxon:9606\n",
      "INFO:backend.wmg.pipeline.summary_cubes.marker_genes:Calculating markers for tissue: UBERON:0002113, cell type: CL:1001106, organism: NCBITaxon:9606\n",
      "INFO:backend.wmg.pipeline.summary_cubes.marker_genes:Calculating markers for tissue: UBERON:0002113, cell type: CL:1001131, organism: NCBITaxon:9606\n",
      "INFO:backend.wmg.pipeline.summary_cubes.marker_genes:Calculating markers for tissue: UBERON:0002113, cell type: CL:1001225, organism: NCBITaxon:9606\n",
      "INFO:backend.wmg.pipeline.summary_cubes.marker_genes:Calculating markers for tissue: UBERON:0002113, cell type: CL:1001285, organism: NCBITaxon:9606\n",
      "INFO:backend.wmg.pipeline.summary_cubes.marker_genes:Marker genes cube created and stored at /Users/atarashansky/czi/single-cell-data-portal/1690995594/marker_genes\n",
      "INFO:backend.wmg.pipeline.summary_cubes.marker_genes:Function create_marker_genes_cube executed in 47.9612s\n",
      "INFO:backend.wmg.data.utils:Function get_expression_summary_cube_gene_count executed in 0.1571s\n",
      "INFO:backend.wmg.data.utils:Function get_cell_count_cube_count executed in 0.0039s\n",
      "INFO:backend.wmg.data.transform:Function get_cell_types_by_tissue executed in 0.0093s\n"
     ]
    },
    {
     "ename": "ModuleNotFoundError",
     "evalue": "No module named 'pygraphviz'",
     "output_type": "error",
     "traceback": [
      "\u001b[0;31m---------------------------------------------------------------------------\u001b[0m",
      "\u001b[0;31mModuleNotFoundError\u001b[0m                       Traceback (most recent call last)",
      "Cell \u001b[0;32mIn[7], line 1\u001b[0m\n\u001b[0;32m----> 1\u001b[0m corpus_path, stats \u001b[38;5;241m=\u001b[39m \u001b[43mload_data_and_create_cube\u001b[49m\u001b[43m(\u001b[49m\u001b[43mDATASET_FOLDER_NAME\u001b[49m\u001b[43m,\u001b[49m\u001b[43m \u001b[49m\u001b[43mextract_data\u001b[49m\u001b[38;5;241;43m=\u001b[39;49m\u001b[38;5;28;43;01mFalse\u001b[39;49;00m\u001b[43m,\u001b[49m\u001b[43m \u001b[49m\u001b[43mvalidate_cube\u001b[49m\u001b[38;5;241;43m=\u001b[39;49m\u001b[38;5;28;43;01mFalse\u001b[39;49;00m\u001b[43m)\u001b[49m\n",
      "File \u001b[0;32m~/czi/single-cell-data-portal/backend/wmg/pipeline/cube_pipeline.py:70\u001b[0m, in \u001b[0;36mload_data_and_create_cube\u001b[0;34m(path_to_h5ad_datasets, path, extract_data, validate_cube)\u001b[0m\n\u001b[1;32m     64\u001b[0m stats \u001b[38;5;241m=\u001b[39m \u001b[38;5;28mdict\u001b[39m(\n\u001b[1;32m     65\u001b[0m     dataset_count\u001b[38;5;241m=\u001b[39m\u001b[38;5;28mlen\u001b[39m(get_all_dataset_ids(corpus_path)),\n\u001b[1;32m     66\u001b[0m     gene_count\u001b[38;5;241m=\u001b[39mget_expression_summary_cube_gene_count(\u001b[38;5;124mf\u001b[39m\u001b[38;5;124m\"\u001b[39m\u001b[38;5;132;01m{\u001b[39;00mcorpus_path\u001b[38;5;132;01m}\u001b[39;00m\u001b[38;5;124m/\u001b[39m\u001b[38;5;132;01m{\u001b[39;00mEXPRESSION_SUMMARY_CUBE_NAME\u001b[38;5;132;01m}\u001b[39;00m\u001b[38;5;124m\"\u001b[39m),\n\u001b[1;32m     67\u001b[0m     cell_count\u001b[38;5;241m=\u001b[39mget_cell_count_cube_count(\u001b[38;5;124mf\u001b[39m\u001b[38;5;124m\"\u001b[39m\u001b[38;5;132;01m{\u001b[39;00mcorpus_path\u001b[38;5;132;01m}\u001b[39;00m\u001b[38;5;124m/\u001b[39m\u001b[38;5;132;01m{\u001b[39;00mCELL_COUNTS_CUBE_NAME\u001b[38;5;132;01m}\u001b[39;00m\u001b[38;5;124m\"\u001b[39m),\n\u001b[1;32m     68\u001b[0m )\n\u001b[1;32m     69\u001b[0m cell_type_by_tissue \u001b[38;5;241m=\u001b[39m get_cell_types_by_tissue(corpus_path)\n\u001b[0;32m---> 70\u001b[0m \u001b[43mcell_type_ordering_create_file\u001b[49m\u001b[43m(\u001b[49m\u001b[43mcorpus_path\u001b[49m\u001b[43m,\u001b[49m\u001b[43m \u001b[49m\u001b[43mcell_type_by_tissue\u001b[49m\u001b[43m)\u001b[49m\n\u001b[1;32m     71\u001b[0m generate_primary_filter_dimensions(corpus_path, snapshot_id)\n\u001b[1;32m     73\u001b[0m cube_data_s3_path \u001b[38;5;241m=\u001b[39m upload_artifacts_to_s3(\n\u001b[1;32m     74\u001b[0m     snapshot_source_path\u001b[38;5;241m=\u001b[39mcorpus_path, snapshot_schema_version\u001b[38;5;241m=\u001b[39mWMG_DATA_SCHEMA_VERSION, snapshot_id\u001b[38;5;241m=\u001b[39msnapshot_id\n\u001b[1;32m     75\u001b[0m )\n",
      "File \u001b[0;32m~/czi/single-cell-data-portal/backend/wmg/data/utils.py:19\u001b[0m, in \u001b[0;36mlog_func_runtime.<locals>.wrap_func\u001b[0;34m(*args, **kwargs)\u001b[0m\n\u001b[1;32m     17\u001b[0m logger \u001b[38;5;241m=\u001b[39m logging\u001b[38;5;241m.\u001b[39mgetLogger(func\u001b[38;5;241m.\u001b[39m\u001b[38;5;18m__module__\u001b[39m)\n\u001b[1;32m     18\u001b[0m start \u001b[38;5;241m=\u001b[39m time\u001b[38;5;241m.\u001b[39mperf_counter()\n\u001b[0;32m---> 19\u001b[0m result \u001b[38;5;241m=\u001b[39m \u001b[43mfunc\u001b[49m\u001b[43m(\u001b[49m\u001b[38;5;241;43m*\u001b[39;49m\u001b[43margs\u001b[49m\u001b[43m,\u001b[49m\u001b[43m \u001b[49m\u001b[38;5;241;43m*\u001b[39;49m\u001b[38;5;241;43m*\u001b[39;49m\u001b[43mkwargs\u001b[49m\u001b[43m)\u001b[49m\n\u001b[1;32m     20\u001b[0m stop \u001b[38;5;241m=\u001b[39m time\u001b[38;5;241m.\u001b[39mperf_counter()\n\u001b[1;32m     21\u001b[0m logger\u001b[38;5;241m.\u001b[39minfo(\u001b[38;5;124mf\u001b[39m\u001b[38;5;124m\"\u001b[39m\u001b[38;5;124mFunction \u001b[39m\u001b[38;5;132;01m{\u001b[39;00mfunc\u001b[38;5;241m.\u001b[39m\u001b[38;5;18m__name__\u001b[39m\u001b[38;5;132;01m}\u001b[39;00m\u001b[38;5;124m executed in \u001b[39m\u001b[38;5;132;01m{\u001b[39;00m(stop\u001b[38;5;241m-\u001b[39mstart)\u001b[38;5;132;01m:\u001b[39;00m\u001b[38;5;124m.4f\u001b[39m\u001b[38;5;132;01m}\u001b[39;00m\u001b[38;5;124ms\u001b[39m\u001b[38;5;124m\"\u001b[39m)\n",
      "File \u001b[0;32m~/czi/single-cell-data-portal/backend/wmg/data/transform.py:60\u001b[0m, in \u001b[0;36mcell_type_ordering_create_file\u001b[0;34m(snapshot_path, cell_type_by_tissue)\u001b[0m\n\u001b[1;32m     58\u001b[0m \u001b[38;5;66;03m# Generates ordering for ALL cell types\u001b[39;00m\n\u001b[1;32m     59\u001b[0m all_cells \u001b[38;5;241m=\u001b[39m {cell \u001b[38;5;28;01mfor\u001b[39;00m cell_df \u001b[38;5;129;01min\u001b[39;00m cell_type_by_tissue\u001b[38;5;241m.\u001b[39mvalues() \u001b[38;5;28;01mfor\u001b[39;00m cell \u001b[38;5;129;01min\u001b[39;00m cell_df}\n\u001b[0;32m---> 60\u001b[0m ordered_cells \u001b[38;5;241m=\u001b[39m \u001b[43m_cell_type_ordering_compute\u001b[49m\u001b[43m(\u001b[49m\u001b[43mall_cells\u001b[49m\u001b[43m,\u001b[49m\u001b[43m \u001b[49m\u001b[43mroot\u001b[49m\u001b[38;5;241;43m=\u001b[39;49m\u001b[38;5;124;43m\"\u001b[39;49m\u001b[38;5;124;43mCL:0000003\u001b[39;49m\u001b[38;5;124;43m\"\u001b[39;49m\u001b[43m)\u001b[49m\n\u001b[1;32m     62\u001b[0m \u001b[38;5;66;03m# Create individual data frames per tissue\u001b[39;00m\n\u001b[1;32m     63\u001b[0m ordered_cells_by_tissue \u001b[38;5;241m=\u001b[39m []\n",
      "File \u001b[0;32m~/czi/single-cell-data-portal/backend/wmg/data/transform.py:95\u001b[0m, in \u001b[0;36m_cell_type_ordering_compute\u001b[0;34m(cells, root)\u001b[0m\n\u001b[1;32m     75\u001b[0m \u001b[38;5;250m\u001b[39m\u001b[38;5;124;03m\"\"\"\u001b[39;00m\n\u001b[1;32m     76\u001b[0m \u001b[38;5;124;03mHelper function for `cell_type_ordering_create_file()`. Orders a set of cell types starting from a root cell type.\u001b[39;00m\n\u001b[1;32m     77\u001b[0m \u001b[38;5;124;03mOrdering is according to the CL directed acyclic graph (DAG). Using pygraphviz, a 2-dimensional representation of\u001b[39;00m\n\u001b[0;32m   (...)\u001b[0m\n\u001b[1;32m     90\u001b[0m \u001b[38;5;124;03m                            The following nodes are always at depth 0: \"CL:0000003\", \"CL:0000255\", \"CL:0000548\"\u001b[39;00m\n\u001b[1;32m     91\u001b[0m \u001b[38;5;124;03m\"\"\"\u001b[39;00m\n\u001b[1;32m     93\u001b[0m \u001b[38;5;66;03m# Note: those dependencies are only needed by the WMG pipeline, so we should keep them local\u001b[39;00m\n\u001b[1;32m     94\u001b[0m \u001b[38;5;66;03m# so that this file can be imported by tests without breaking.\u001b[39;00m\n\u001b[0;32m---> 95\u001b[0m \u001b[38;5;28;01mimport\u001b[39;00m \u001b[38;5;21;01mpygraphviz\u001b[39;00m \u001b[38;5;28;01mas\u001b[39;00m \u001b[38;5;21;01mpgv\u001b[39;00m\n\u001b[1;32m     96\u001b[0m \u001b[38;5;28;01mfrom\u001b[39;00m \u001b[38;5;21;01mpronto\u001b[39;00m \u001b[38;5;28;01mimport\u001b[39;00m Ontology\n\u001b[1;32m     98\u001b[0m onto \u001b[38;5;241m=\u001b[39m Ontology(CL_BASIC_PERMANENT_URL_PRONTO)\n",
      "\u001b[0;31mModuleNotFoundError\u001b[0m: No module named 'pygraphviz'"
     ]
    }
   ],
   "source": [
    "corpus_path, stats = load_data_and_create_cube(DATASET_FOLDER_NAME, extract_data=False, validate_cube=False)"
   ]
  }
 ],
 "metadata": {
  "kernelspec": {
   "display_name": "Python 3 (ipykernel)",
   "language": "python",
   "name": "python3"
  },
  "language_info": {
   "codemirror_mode": {
    "name": "ipython",
    "version": 3
   },
   "file_extension": ".py",
   "mimetype": "text/x-python",
   "name": "python",
   "nbconvert_exporter": "python",
   "pygments_lexer": "ipython3",
   "version": "3.10.11"
  }
 },
 "nbformat": 4,
 "nbformat_minor": 5
}
