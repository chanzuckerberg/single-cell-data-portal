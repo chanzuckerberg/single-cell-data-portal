{
 "cells": [
  {
   "cell_type": "code",
   "execution_count": 2,
   "id": "4bedd75c",
   "metadata": {},
   "outputs": [
    {
     "name": "stderr",
     "output_type": "stream",
     "text": [
      "* Owlready2 * Warning: optimized Cython parser module 'owlready2_optimized' is not available, defaulting to slower Python implementation\n"
     ]
    }
   ],
   "source": [
    "from backend.wmg.data.rollup import rollup_across_cell_type_descendants\n",
    "import owlready2\n",
    "import json\n",
    "import tiledb\n",
    "from backend.wmg.data.ontology_labels import ontology_term_label, ontology_term_id_labels\n",
    "import pandas as pd\n"
   ]
  },
  {
   "cell_type": "markdown",
   "id": "a80c4343",
   "metadata": {},
   "source": [
    "# Build ontology tree JSON"
   ]
  },
  {
   "cell_type": "code",
   "execution_count": 29,
   "id": "cfe420b3",
   "metadata": {},
   "outputs": [],
   "source": [
    "def traverse(node):\n",
    "    subclasses = list(node.subclasses())\n",
    "    node_id = node.name.replace('_',':')\n",
    "    if len(subclasses) == 0:\n",
    "        return {\"id\": node.name,\n",
    "                \"name\": id_to_name[node_id] if node_id in id_to_name else node_id,\n",
    "                \"n_cells_rollup\": int(cell_counts_df_rollup[node_id] if node_id in cell_counts_df_rollup else 0),\n",
    "                \"n_cells_rollup_normalized\": float(cell_counts_df_rollup_norm[node_id] if node_id in cell_counts_df_rollup_norm else 0),                \n",
    "                \"n_cells\": int(cell_counts_df[node_id] if node_id in cell_counts_df else 0),\n",
    "                \"n_cells_normalized\": float(cell_counts_df_norm[node_id] if node_id in cell_counts_df_norm else 0),                                \n",
    "               }\n",
    "\n",
    "    children = []\n",
    "    for child in subclasses:\n",
    "        children.append(traverse(child))\n",
    "\n",
    "    return {\"id\": node.name,\n",
    "                \"name\": id_to_name[node_id] if node_id in id_to_name else node_id,\n",
    "                \"n_cells_rollup\": int(cell_counts_df_rollup[node_id] if node_id in cell_counts_df_rollup else 0),\n",
    "                \"n_cells_rollup_normalized\": float(cell_counts_df_rollup_norm[node_id] if node_id in cell_counts_df_rollup_norm else 0),\n",
    "                \"n_cells\": int(cell_counts_df[node_id] if node_id in cell_counts_df else 0),\n",
    "                \"n_cells_normalized\": float(cell_counts_df_norm[node_id] if node_id in cell_counts_df_norm else 0),\n",
    "                \"children\": children\n",
    "               }\n",
    "\n",
    "cell_counts = tiledb.open('prod-snapshot/cell_counts')\n",
    "cell_counts_df = cell_counts.df[:]\n",
    "cell_counts_df = cell_counts_df.groupby('cell_type_ontology_term_id').sum(numeric_only=True).reset_index()\n",
    "\n",
    "all_cell_types = [{k: ontology_term_label(k)} for k in ontology_term_id_labels if k.startswith('CL:')]\n",
    "all_cell_types_ids = [list(i.keys())[0] for i in all_cell_types]\n",
    "to_attach = pd.DataFrame()\n",
    "to_attach['cell_type_ontology_term_id']=[i for i in all_cell_types_ids if i not in cell_counts_df['cell_type_ontology_term_id'].values]\n",
    "to_attach['n_cells']=0\n",
    "\n",
    "cell_counts_df = pd.concat([cell_counts_df,to_attach],axis=0)\n",
    "cell_counts_df_rollup = rollup_across_cell_type_descendants(cell_counts_df).set_index('cell_type_ontology_term_id')['n_cells']\n",
    "cell_counts_df = cell_counts_df.set_index('cell_type_ontology_term_id')['n_cells']\n",
    "\n",
    "cell_counts_df_rollup_norm = cell_counts_df_rollup/cell_counts_df_rollup.max()\n",
    "cell_counts_df_norm = cell_counts_df/cell_counts_df.max()\n",
    "id_to_name = pd.Series(index=cell_counts_df.index,data=[ontology_term_label(i) for i in cell_counts_df.index])\n",
    "\n",
    "\n",
    "ontology = owlready2.get_ontology(\"https://github.com/obophenotype/cell-ontology/releases/latest/download/cl-basic.owl\")\n",
    "ontology.load()\n",
    "\n",
    "root_node = ontology.world[\"http://purl.obolibrary.org/obo/CL_0000000\"]\n",
    "\n",
    "a = traverse(root_node)\n",
    "\n",
    "json.dump(a,open('ontologyRawTree.json','w'))"
   ]
  },
  {
   "cell_type": "markdown",
   "id": "2904e204",
   "metadata": {},
   "source": [
    "# Get initial open/closed state of nodes per cell type"
   ]
  },
  {
   "cell_type": "code",
   "execution_count": 240,
   "id": "b6af979a",
   "metadata": {},
   "outputs": [],
   "source": [
    "def _children(cell_type):\n",
    "    cell_type_iri = cell_type.replace(\":\", \"_\")\n",
    "    entity = ontology.search_one(iri=f\"http://purl.obolibrary.org/obo/{cell_type_iri}\")\n",
    "    descendants = [i.name.replace(\"_\", \":\") for i in entity.subclasses()] if entity else [cell_type]\n",
    "    return descendants\n",
    "\n",
    "def _parents(cell_type):\n",
    "    cell_type_iri = cell_type.replace(\":\", \"_\")\n",
    "    entity = ontology.search_one(iri=f\"http://purl.obolibrary.org/obo/{cell_type_iri}\")    \n",
    "    parent_names = [parent.name.replace(\"_\",\":\") for parent in entity.is_a if isinstance(parent, owlready2.ThingClass) if parent.name!= \"Thing\"]\n",
    "    return parent_names\n",
    "\n",
    "def dfs(parents, end, start, node=None, path = None, all_paths = []):\n",
    "    if path is None and node is None:\n",
    "        path = [end]\n",
    "        node = end\n",
    "\n",
    "    if node == start:\n",
    "        return path\n",
    "    \n",
    "    for parent in parents.get(node,[]):\n",
    "        full_path = dfs(parents, end, start, node=parent, path = path+[parent], all_paths=all_paths)\n",
    "        if full_path:\n",
    "            all_paths.append(full_path)\n",
    "    "
   ]
  },
  {
   "cell_type": "code",
   "execution_count": 241,
   "id": "7b7692ce",
   "metadata": {},
   "outputs": [],
   "source": [
    "all_children = {i: _children(i) for i in all_cell_types_ids}\n",
    "all_parents = {i: _parents(i) for i in all_cell_types_ids}"
   ]
  },
  {
   "cell_type": "code",
   "execution_count": 248,
   "id": "099b1d2b",
   "metadata": {},
   "outputs": [],
   "source": [
    "start_node = 'CL:0000000'\n",
    "open_nodes_dict={}\n",
    "for end_node in all_cell_types_ids:\n",
    "    all_paths = []\n",
    "    dfs(all_parents,end_node,start_node,all_paths=all_paths)\n",
    "    visited_nodes = list(set(sum(all_paths,[])))\n",
    "    open_nodes_dict[end_node] = visited_nodes\n",
    "json.dump(open_nodes_dict, open('initialNodeExpandedState.json','w'))"
   ]
  }
 ],
 "metadata": {
  "kernelspec": {
   "display_name": "Python 3 (ipykernel)",
   "language": "python",
   "name": "python3"
  },
  "language_info": {
   "codemirror_mode": {
    "name": "ipython",
    "version": 3
   },
   "file_extension": ".py",
   "mimetype": "text/x-python",
   "name": "python",
   "nbconvert_exporter": "python",
   "pygments_lexer": "ipython3",
   "version": "3.9.16"
  }
 },
 "nbformat": 4,
 "nbformat_minor": 5
}
