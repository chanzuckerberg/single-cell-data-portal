{
 "cells": [
  {
   "cell_type": "code",
   "execution_count": 3,
   "id": "8ca541c9",
   "metadata": {},
   "outputs": [],
   "source": [
    "from backend.wmg.data.rollup import rollup_across_cell_type_descendants\n",
    "import owlready2\n",
    "import json\n",
    "import tiledb\n",
    "from backend.wmg.data.ontology_labels import ontology_term_label, ontology_term_id_labels\n",
    "import pandas as pd\n"
   ]
  },
  {
   "cell_type": "code",
   "execution_count": 56,
   "id": "86d4eb2e",
   "metadata": {},
   "outputs": [],
   "source": [
    "cell_counts = tiledb.open('prod-snapshot/cell_counts')\n",
    "cell_counts_df = cell_counts.df[:]\n",
    "cell_counts_df = cell_counts_df.groupby('cell_type_ontology_term_id').sum(numeric_only=True).reset_index()\n",
    "\n",
    "all_cell_types = [{k: ontology_term_label(k)} for k in ontology_term_id_labels if k.startswith('CL:')]\n",
    "all_cell_types_ids = [list(i.keys())[0] for i in all_cell_types]\n",
    "to_attach = pd.DataFrame()\n",
    "to_attach['cell_type_ontology_term_id']=[i for i in all_cell_types_ids if i not in cell_counts_df['cell_type_ontology_term_id'].values]\n",
    "to_attach['n_cells']=0\n",
    "\n",
    "cell_counts_df = pd.concat([cell_counts_df,to_attach],axis=0)\n",
    "cell_counts_df_rollup = rollup_across_cell_type_descendants(cell_counts_df).set_index('cell_type_ontology_term_id')['n_cells']\n",
    "cell_counts_df = cell_counts_df.set_index('cell_type_ontology_term_id')['n_cells']\n",
    "\n",
    "cell_counts_df_rollup_norm = cell_counts_df_rollup/cell_counts_df_rollup.max()\n",
    "cell_counts_df_norm = cell_counts_df/cell_counts_df.max()\n",
    "id_to_name = pd.Series(index=cell_counts_df.index,data=[ontology_term_label(i) for i in cell_counts_df.index])"
   ]
  },
  {
   "cell_type": "code",
   "execution_count": 68,
   "id": "67b36bbd",
   "metadata": {},
   "outputs": [
    {
     "data": {
      "text/plain": [
       "False"
      ]
     },
     "execution_count": 68,
     "metadata": {},
     "output_type": "execute_result"
    }
   ],
   "source": [
    "\"CL:00000asdsad01\" in cell_counts_df_rollup"
   ]
  },
  {
   "cell_type": "code",
   "execution_count": 81,
   "id": "8f5dfec2",
   "metadata": {},
   "outputs": [],
   "source": [
    "def traverse(node):\n",
    "    subclasses = list(node.subclasses())\n",
    "    node_id = node.name.replace('_',':')\n",
    "    if len(subclasses) == 0:\n",
    "        return {\"id\": node.name,\n",
    "                \"name\": id_to_name[node_id] if node_id in id_to_name else node_id,\n",
    "                \"n_cells_rollup\": int(cell_counts_df_rollup[node_id] if node_id in cell_counts_df_rollup else 0),\n",
    "                \"n_cells_rollup_normalized\": float(cell_counts_df_rollup_norm[node_id] if node_id in cell_counts_df_rollup_norm else 0),                \n",
    "                \"n_cells\": int(cell_counts_df[node_id] if node_id in cell_counts_df else 0),\n",
    "                \"n_cells_normalized\": float(cell_counts_df_norm[node_id] if node_id in cell_counts_df_norm else 0),                                \n",
    "               }\n",
    "\n",
    "    children = []\n",
    "    for child in subclasses:\n",
    "        children.append(traverse(child))\n",
    "\n",
    "    return {\"id\": node.name,\n",
    "                \"name\": id_to_name[node_id] if node_id in id_to_name else node_id,\n",
    "                \"n_cells_rollup\": int(cell_counts_df_rollup[node_id] if node_id in cell_counts_df_rollup else 0),\n",
    "                \"n_cells_rollup_normalized\": float(cell_counts_df_rollup_norm[node_id] if node_id in cell_counts_df_rollup_norm else 0),\n",
    "                \"n_cells\": int(cell_counts_df[node_id] if node_id in cell_counts_df else 0),\n",
    "                \"n_cells_normalized\": float(cell_counts_df_norm[node_id] if node_id in cell_counts_df_norm else 0),\n",
    "                \"children\": children\n",
    "               }"
   ]
  },
  {
   "cell_type": "code",
   "execution_count": 82,
   "id": "bbe0cfa9",
   "metadata": {},
   "outputs": [],
   "source": [
    "\n",
    "ontology = owlready2.get_ontology(\"https://github.com/obophenotype/cell-ontology/releases/latest/download/cl-basic.owl\")\n",
    "ontology.load()\n",
    "\n",
    "root_node = ontology.world[\"http://purl.obolibrary.org/obo/CL_0000000\"]\n",
    "\n",
    "a = traverse(root_node)"
   ]
  },
  {
   "cell_type": "code",
   "execution_count": 83,
   "id": "b33d3af4",
   "metadata": {},
   "outputs": [],
   "source": [
    "json.dump(a,open('ontologyRawTree.json','w'))"
   ]
  }
 ],
 "metadata": {
  "kernelspec": {
   "display_name": "Python 3 (ipykernel)",
   "language": "python",
   "name": "python3"
  },
  "language_info": {
   "codemirror_mode": {
    "name": "ipython",
    "version": 3
   },
   "file_extension": ".py",
   "mimetype": "text/x-python",
   "name": "python",
   "nbconvert_exporter": "python",
   "pygments_lexer": "ipython3",
   "version": "3.9.16"
  }
 },
 "nbformat": 4,
 "nbformat_minor": 5
}
